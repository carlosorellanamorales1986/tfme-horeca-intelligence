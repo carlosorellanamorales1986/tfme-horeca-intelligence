{
 "cells": [
  {
   "cell_type": "markdown",
   "id": "f5abbd73",
   "metadata": {},
   "source": [
    "# IMPORTAR LIBRERÍAS Y CONFIGURAR PATH Y CLIENTE"
   ]
  },
  {
   "cell_type": "code",
   "execution_count": 1,
   "id": "f6db4202",
   "metadata": {},
   "outputs": [],
   "source": [
    "# Import de las librerías, api keys y funciones\n",
    "import sys\n",
    "import os\n",
    "from pathlib import Path\n",
    "import pandas as pd\n",
    "import json\n",
    "from apify_client import ApifyClient\n",
    "from config import APIFY_API_KEY, DB_PATH\n",
    "from src.utils.database import get_db_connection, insert_dataframe_to_table\n",
    "\n",
    "# Configuración de paths\n",
    "project_root = Path.cwd().parent.parent\n",
    "sys.path.append(str(project_root))\n",
    "\n",
    "# Configuración de Apify\n",
    "client = ApifyClient(APIFY_API_KEY)"
   ]
  },
  {
   "cell_type": "markdown",
   "id": "f197bac0",
   "metadata": {},
   "source": [
    "### Establecer las URLs del scraping de restaurantes"
   ]
  },
  {
   "cell_type": "code",
   "execution_count": 2,
   "id": "ceb23cdd",
   "metadata": {},
   "outputs": [],
   "source": [
    "# URLs de búsqueda que scrapeará el actor de Apify\n",
    "SEARCH_URLS_PARAM = [\n",
    "    #\"https://www.tripadvisor.es/Restaurants-g187499-oa120-Girona_Province_of_Girona_Catalonia.html\", (ya scrapeada)\n",
    "    #\"https://www.tripadvisor.es/Restaurants-g187499-oa150-Girona_Province_of_Girona_Catalonia.html\", (ya scrapeada)\n",
    "    #\"https://www.tripadvisor.es/Restaurants-g187499-oa180-Girona_Province_of_Girona_Catalonia.html\", (ya scrapeada)\n",
    "    #\"https://www.tripadvisor.es/Restaurants-g187499-oa240-Girona_Province_of_Girona_Catalonia.html\",(ya scrapeada)\n",
    "    #\"https://www.tripadvisor.es/Restaurants-g187499-oa270-Girona_Province_of_Girona_Catalonia.html\" ,(ya scrapeada)\n",
    "    #\"https://www.tripadvisor.es/Restaurants-g187499-oa300-Girona_Province_of_Girona_Catalonia.html\", (ya scrapeada)\n",
    "    \"https://www.tripadvisor.es/Restaurants-g187499-oa330-Girona_Province_of_Girona_Catalonia.html\"\n",
    "]"
   ]
  },
  {
   "cell_type": "markdown",
   "id": "b61182ee",
   "metadata": {},
   "source": [
    "# DEFINIR LAS FUNCIONES PARA SCRAPEAR LOS RESTAURANTES"
   ]
  },
  {
   "cell_type": "code",
   "execution_count": null,
   "id": "23d02658",
   "metadata": {},
   "outputs": [],
   "source": [
    "# Definir las funciones específicas para scrapear los restaurantes a través de Apify\n",
    "def run_apify_actor_slow():\n",
    "    \"\"\"Ejecuta el actor de Apify con configuración ultra-lenta para evitar bloqueos\"\"\"\n",
    "    print(\"🚀 Ejecutando actor de Apify (modo lento)...\")\n",
    "    print(f\"📋 Número de URLs: {len(SEARCH_URLS_PARAM)}\")\n",
    "    \n",
    "    try:\n",
    "        run = client.actor(\"maxcopell/tripadvisor\").call(\n",
    "            run_input={\n",
    "                \"startUrls\": [{\"url\": url} for url in SEARCH_URLS_PARAM],\n",
    "                \"maxItems\": 30,\n",
    "                \"proxyConfiguration\": {\n",
    "                    \"useApifyProxy\": True,\n",
    "                    \"apifyProxyGroups\": [\"RESIDENTIAL\"],\n",
    "                    \"apifyProxyCountry\": \"ES\"\n",
    "                },\n",
    "                \"maxConcurrency\": 1,\n",
    "                \"minTimeBetweenRequests\": 10000,\n",
    "                \"searchLanguage\": \"es\",\n",
    "                \"reviews\": False,\n",
    "            },\n",
    "            wait_secs=600\n",
    "        )\n",
    "        \n",
    "        print(\"📦 Recopilando datos...\")\n",
    "        dataset = client.dataset(run[\"defaultDatasetId\"]).list_items().items\n",
    "        \n",
    "        if not dataset:\n",
    "            print(\"❌ No se encontraron datos\")\n",
    "            return None\n",
    "        \n",
    "        print(f\"✅ Se obtuvieron {len(dataset)} restaurantes\")\n",
    "        return dataset\n",
    "        \n",
    "    except Exception as e:\n",
    "        print(f\"❌ Error ejecutando el actor de Apify: {e}\")\n",
    "        return None\n",
    "    \n",
    "def extract_url_path(full_url):\n",
    "    \"\"\"Extrae solo la parte del path de la URL\"\"\"\n",
    "    if full_url and 'tripadvisor.com' in full_url:\n",
    "        return full_url.split('tripadvisor.com')[-1]\n",
    "    return full_url\n",
    "\n",
    "def extract_cuisines(cuisines_data):\n",
    "    \"\"\"Convierte cocinas a string\"\"\"\n",
    "    if not cuisines_data:\n",
    "        return ''\n",
    "    \n",
    "    if isinstance(cuisines_data, list):\n",
    "        if cuisines_data and isinstance(cuisines_data[0], dict):\n",
    "            return ', '.join([c.get('name', '') for c in cuisines_data])\n",
    "        return ', '.join(cuisines_data)\n",
    "    return str(cuisines_data)"
   ]
  },
  {
   "cell_type": "markdown",
   "id": "423bd48f",
   "metadata": {},
   "source": [
    "# EJECUTAR EL SCRAPEO DE LOS RESTAURANTES Y ANALIZAR LOS DATOS"
   ]
  },
  {
   "cell_type": "code",
   "execution_count": 4,
   "id": "f041d500",
   "metadata": {},
   "outputs": [
    {
     "name": "stdout",
     "output_type": "stream",
     "text": [
      "🚀 Ejecutando actor de Apify (modo lento)...\n",
      "📋 Número de URLs: 1\n",
      "❌ Error ejecutando el actor de Apify: Monthly usage hard limit exceeded\n"
     ]
    }
   ],
   "source": [
    "# Ejecutar el actor y obtener datos\n",
    "dataset = run_apify_actor_slow()"
   ]
  },
  {
   "cell_type": "code",
   "execution_count": 5,
   "id": "d85e31c4",
   "metadata": {},
   "outputs": [
    {
     "name": "stdout",
     "output_type": "stream",
     "text": [
      "🔍 EXPLORACIÓN DE DATOS OBTENIDOS\n",
      "==================================================\n",
      "No hay datos para explorar\n"
     ]
    }
   ],
   "source": [
    "# Explorar los datos\n",
    "print(\"🔍 EXPLORACIÓN DE DATOS OBTENIDOS\")\n",
    "print(\"=\"*50)\n",
    "\n",
    "# Crear DataFrame para exploración\n",
    "if dataset:\n",
    "    df_raw = pd.DataFrame(dataset)\n",
    "    print(f\"📊 Total de items: {len(df_raw)}\")\n",
    "    print(f\"📋 Columnas: {list(df_raw.columns)}\")\n",
    "    \n",
    "    # Mostrar primeras filas\n",
    "    print(\"\\n👀 Primeras filas:\")\n",
    "    display(df_raw.head())\n",
    "    \n",
    "    # Ver estructura del primer item\n",
    "    print(\"\\n📋 Estructura del primer restaurante:\")\n",
    "    first_item = dataset[0]\n",
    "    for key, value in first_item.items():\n",
    "        print(f\"  {key}: {type(value).__name__} = {str(value)[:80]}...\")\n",
    "else:\n",
    "    print(\"No hay datos para explorar\")"
   ]
  },
  {
   "cell_type": "markdown",
   "id": "8769d64d",
   "metadata": {},
   "source": [
    "# PROCESAR LOS RESTAURANTES OBTENIDOS Y GUARDARLOS EN LA BD "
   ]
  },
  {
   "cell_type": "code",
   "execution_count": 6,
   "id": "4c887598",
   "metadata": {},
   "outputs": [],
   "source": [
    "# Procesar datos para la BD\n",
    "if dataset:\n",
    "    restaurantes_data = []\n",
    "    \n",
    "    for item in dataset:\n",
    "        # Función de limpieza para rango_precio\n",
    "        def clean_price_level(price_level):\n",
    "            if price_level is None:\n",
    "                return ''\n",
    "            elif isinstance(price_level, (int, float)):\n",
    "                return str(price_level)\n",
    "            elif isinstance(price_level, str):\n",
    "                return price_level\n",
    "            else:\n",
    "                return str(price_level)\n",
    "        \n",
    "        # Convertir listas a strings\n",
    "        platos = item.get('dishes', '')\n",
    "        if isinstance(platos, list):\n",
    "            platos = ', '.join(platos)\n",
    "        \n",
    "        tipo_cocina = extract_cuisines(item.get('cuisines', []))\n",
    "        if isinstance(tipo_cocina, list):\n",
    "            tipo_cocina = ', '.join(tipo_cocina)\n",
    "        \n",
    "        restaurante = {\n",
    "            'tripadvisor_id' : item.get('id', ''),\n",
    "            'nombre' : item.get('name',''),\n",
    "            'telefono' : item.get('phone',''),\n",
    "            'direccion' : item.get('address',''),\n",
    "            'localizacion' : item.get('locationString',''),\n",
    "            'email' : item.get('email',''),\n",
    "            'latitud' : item.get('latitude',''),\n",
    "            'longitud' : item.get('longitude',''),\n",
    "            'website' : extract_url_path(item.get('website','')),                        \n",
    "            'rating' : item.get('rating',''),\n",
    "            'ranking' : item.get('rankingPosition',''),\n",
    "            'rango_precio': clean_price_level(item.get('priceLevel', '')),\n",
    "            'platos' : platos,\n",
    "            'tipo_cocina': tipo_cocina,\n",
    "            'tripadvisor_web' : item.get('webUrl','')\n",
    "        }\n",
    "        restaurantes_data.append(restaurante)\n",
    "    \n",
    "    df_clean = pd.DataFrame(restaurantes_data)\n",
    "    \n",
    "    # Limpieza adicional por si acaso\n",
    "    df_clean['rango_precio'] = df_clean['rango_precio'].fillna('').astype(str)\n",
    "    \n",
    "    print(f\"✅ Datos procesados: {len(df_clean)} restaurantes\")"
   ]
  },
  {
   "cell_type": "code",
   "execution_count": 7,
   "id": "8fc2427c",
   "metadata": {},
   "outputs": [
    {
     "name": "stdout",
     "output_type": "stream",
     "text": [
      "No hay datos limpios para guardar\n"
     ]
    }
   ],
   "source": [
    "# Guardar la información en la base de datos\n",
    "if 'df_clean' in locals() and not df_clean.empty:\n",
    "    conn = None\n",
    "    try:\n",
    "        print(\"💾 Guardando en base de datos...\")\n",
    "        conn = get_db_connection()\n",
    "        \n",
    "        # VERIFICACIÓN simple\n",
    "        cursor = conn.cursor()\n",
    "        cursor.execute(\"PRAGMA database_list;\")\n",
    "        db_info = cursor.fetchall()\n",
    "        print(\"📋 Base de datos conectada:\", db_info[0][2])\n",
    "        \n",
    "        # Verificar si la tabla existe\n",
    "        cursor.execute(\"SELECT name FROM sqlite_master WHERE type='table' AND name='Restaurantes'\")\n",
    "        if cursor.fetchone():\n",
    "            print(\"✅ Tabla Restaurantes encontrada\")\n",
    "            \n",
    "            # Insertar datos\n",
    "            rows_inserted = insert_dataframe_to_table(df_clean, 'Restaurantes', conn)\n",
    "            conn.commit()\n",
    "            print(f\"✅ {rows_inserted} filas insertadas\")\n",
    "        else:\n",
    "            print(\"❌ Tabla Restaurantes no existe\")\n",
    "        \n",
    "        if conn:\n",
    "            conn.close()\n",
    "        \n",
    "    except Exception as e:\n",
    "        print(f\"❌ Error guardando en BD: {e}\")\n",
    "        if conn:\n",
    "            conn.rollback()\n",
    "else:\n",
    "    print(\"No hay datos limpios para guardar\")"
   ]
  }
 ],
 "metadata": {
  "kernelspec": {
   "display_name": "tfm-horeca",
   "language": "python",
   "name": "python3"
  },
  "language_info": {
   "codemirror_mode": {
    "name": "ipython",
    "version": 3
   },
   "file_extension": ".py",
   "mimetype": "text/x-python",
   "name": "python",
   "nbconvert_exporter": "python",
   "pygments_lexer": "ipython3",
   "version": "3.10.18"
  }
 },
 "nbformat": 4,
 "nbformat_minor": 5
}
