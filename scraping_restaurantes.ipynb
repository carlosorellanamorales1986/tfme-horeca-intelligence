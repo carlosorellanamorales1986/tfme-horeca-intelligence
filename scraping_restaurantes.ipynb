{
 "cells": [
  {
   "cell_type": "code",
   "execution_count": null,
   "id": "017a2269",
   "metadata": {},
   "outputs": [
    {
     "name": "stdout",
     "output_type": "stream",
     "text": [
      "✅ Módulos importados correctamente\n"
     ]
    }
   ],
   "source": [
    "# Celda 2: Importaciones\n",
    "import requests\n",
    "import pandas as pd\n",
    "import sqlite3\n",
    "import time\n",
    "from datetime import datetime\n",
    "import json\n",
    "from IPython.display import display, clear_output\n",
    "import ipywidgets as widgets"
   ]
  },
  {
   "cell_type": "code",
   "execution_count": null,
   "id": "0e03a070",
   "metadata": {},
   "outputs": [],
   "source": [
    "pip install "
   ]
  },
  {
   "cell_type": "code",
   "execution_count": 1,
   "id": "f03504a7",
   "metadata": {},
   "outputs": [
    {
     "ename": "ModuleNotFoundError",
     "evalue": "No module named 'apify_client'",
     "output_type": "error",
     "traceback": [
      "\u001b[0;31m---------------------------------------------------------------------------\u001b[0m",
      "\u001b[0;31mModuleNotFoundError\u001b[0m                       Traceback (most recent call last)",
      "Cell \u001b[0;32mIn[1], line 1\u001b[0m\n\u001b[0;32m----> 1\u001b[0m \u001b[38;5;28;01mfrom\u001b[39;00m\u001b[38;5;250m \u001b[39m\u001b[38;5;21;01mapify_client\u001b[39;00m\u001b[38;5;250m \u001b[39m\u001b[38;5;28;01mimport\u001b[39;00m ApifyClient\n",
      "\u001b[0;31mModuleNotFoundError\u001b[0m: No module named 'apify_client'"
     ]
    }
   ],
   "source": [
    "from apify_client import ApifyClient\n"
   ]
  },
  {
   "cell_type": "code",
   "execution_count": null,
   "id": "295ad0cf",
   "metadata": {},
   "outputs": [],
   "source": [
    "from apify_client import ApifyClient\n",
    "\n",
    "client = ApifyClient(\"<YOUR_API_TOKEN>\")\n",
    "\n",
    "# Define the input for the Actor\n",
    "actor_input = {\n",
    "    \"searchStringsArray\": [\"ramen\"],\n",
    "    \"locationQuery\": \"New York, USA\",\n",
    "    \"maxCrawledPlacesPerSearch\": 10,\n",
    "    \"language\": \"en\",\n",
    "}\n",
    "\n",
    "# Run an Actor with an input\n",
    "print(\"Running the Actor...\")\n",
    "actor_run = apify_client.actor('compass/crawler-google-places').start(run_input=actor_input)\n",
    "\n",
    "print(\"🚀 Actor was started\")\n",
    "print(\"💾 Check your run here: https://console.apify.com/actors/runs/%(id)s\" % {\"id\": actor_run[\"id\"]})"
   ]
  }
 ],
 "metadata": {
  "kernelspec": {
   "display_name": "venv",
   "language": "python",
   "name": "python3"
  },
  "language_info": {
   "codemirror_mode": {
    "name": "ipython",
    "version": 3
   },
   "file_extension": ".py",
   "mimetype": "text/x-python",
   "name": "python",
   "nbconvert_exporter": "python",
   "pygments_lexer": "ipython3",
   "version": "3.10.18"
  }
 },
 "nbformat": 4,
 "nbformat_minor": 5
}
