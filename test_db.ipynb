{
 "cells": [
  {
   "cell_type": "code",
   "execution_count": 1,
   "id": "0165ca63",
   "metadata": {},
   "outputs": [
    {
     "name": "stdout",
     "output_type": "stream",
     "text": [
      "🤖 Iniciando prueba de conexión a la base de datos...\n",
      "📋 DataFrame de prueba creado:\n",
      "                     nombre         direccion         telefono  \\\n",
      "0  El Restaurante de Prueba  Calle Falsa, 123  +34 900 000 000   \n",
      "\n",
      "   posicion_ranking       tipo_cocina rango_precio  \\\n",
      "0               999  Cocina de Prueba           €€   \n",
      "\n",
      "                          url_perfil  \n",
      "0  https://www.tripadvisor.es/Prueba  \n",
      "✅ Conexión a la BD SQLite exitosa.\n",
      "✅ Datos insertados en la tabla 'Restaurantes'.\n",
      "✅ ¡Inserción de prueba EXITOSA! Revisa DBeaver.\n"
     ]
    }
   ],
   "source": [
    "# test_db.ipynb\n",
    "import sys\n",
    "import os\n",
    "import pandas as pd\n",
    "\n",
    "# SOLUCIÓN: En notebooks, usa os.getcwd() para obtener el directorio actual de trabajo.\n",
    "sys.path.append(os.getcwd())  # <-- Línea corregida\n",
    "\n",
    "# Ahora sí debería funcionar la importación\n",
    "from src.utils.database import get_db_connection, insert_dataframe_to_table\n",
    "\n",
    "print(\"🤖 Iniciando prueba de conexión a la base de datos...\")\n",
    "\n",
    "# 1. Crear un DataFrame de prueba con un restaurante de mentira\n",
    "df_prueba = pd.DataFrame({\n",
    "    'nombre': ['El Restaurante de Prueba'],\n",
    "    'direccion': ['Calle Falsa, 123'],\n",
    "    'telefono': ['+34 900 000 000'],\n",
    "    'posicion_ranking': [999],\n",
    "    'tipo_cocina': ['Cocina de Prueba'],\n",
    "    'rango_precio': ['€€'],\n",
    "    'url_perfil': ['https://www.tripadvisor.es/Prueba']\n",
    "})\n",
    "\n",
    "print(\"📋 DataFrame de prueba creado:\")\n",
    "print(df_prueba)\n",
    "\n",
    "# 2. Conectar a la BD e insertar los datos\n",
    "try:\n",
    "    conn = get_db_connection()\n",
    "    insert_dataframe_to_table(df_prueba, 'Restaurantes', conn)\n",
    "    conn.commit()  # <-- ¡IMPORTANTE! Hacemos commit para guardar los cambios.\n",
    "    print(\"✅ ¡Inserción de prueba EXITOSA! Revisa DBeaver.\")\n",
    "    conn.close() # Cerrar la conexión\n",
    "\n",
    "except Exception as e:\n",
    "    print(f\"❌ Error durante la prueba: {e}\")"
   ]
  }
 ],
 "metadata": {
  "kernelspec": {
   "display_name": "venv",
   "language": "python",
   "name": "python3"
  },
  "language_info": {
   "codemirror_mode": {
    "name": "ipython",
    "version": 3
   },
   "file_extension": ".py",
   "mimetype": "text/x-python",
   "name": "python",
   "nbconvert_exporter": "python",
   "pygments_lexer": "ipython3",
   "version": "3.10.18"
  }
 },
 "nbformat": 4,
 "nbformat_minor": 5
}
